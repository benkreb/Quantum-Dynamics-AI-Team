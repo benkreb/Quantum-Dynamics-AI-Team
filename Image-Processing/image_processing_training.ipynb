{
  "nbformat": 4,
  "nbformat_minor": 0,
  "metadata": {
    "colab": {
      "provenance": []
    },
    "kernelspec": {
      "name": "python3",
      "display_name": "Python 3"
    },
    "language_info": {
      "name": "python"
    }
  },
  "cells": [
    {
      "cell_type": "markdown",
      "source": [
        "1) Import neccessary libraries"
      ],
      "metadata": {
        "id": "EcL9whmeLDPg"
      }
    },
    {
      "cell_type": "code",
      "execution_count": 11,
      "metadata": {
        "id": "Pow6_oLvLCbh"
      },
      "outputs": [],
      "source": []
    },
    {
      "cell_type": "markdown",
      "source": [
        "2) Use cv2 and matplotlib to read and display the 'monkey_image'."
      ],
      "metadata": {
        "id": "-Hcvwue9L1OD"
      }
    },
    {
      "cell_type": "code",
      "source": [],
      "metadata": {
        "id": "dsSep_JrLW_v"
      },
      "execution_count": null,
      "outputs": []
    },
    {
      "cell_type": "markdown",
      "source": [
        "3) Correct the color type to RGB using cv2 and show the result"
      ],
      "metadata": {
        "id": "hBmH0wgWMWen"
      }
    },
    {
      "cell_type": "code",
      "source": [],
      "metadata": {
        "id": "w5ZK5tETMe9L"
      },
      "execution_count": null,
      "outputs": []
    },
    {
      "cell_type": "markdown",
      "source": [
        "4) Use slicing to set the RED and GREEN channels of the picture to 0 and use the imshow() to show the isoleted blue channel."
      ],
      "metadata": {
        "id": "iBUeNmcfMfm8"
      }
    },
    {
      "cell_type": "code",
      "source": [],
      "metadata": {
        "id": "BQEQoKSqMf4Y"
      },
      "execution_count": null,
      "outputs": []
    },
    {
      "cell_type": "markdown",
      "source": [
        "5) Open the \"shocked_guy\" image and display it in the notebook. Make sure to correct for the RGB order. Try to read and correct RGB in same line"
      ],
      "metadata": {
        "id": "yAgTMxglOOGl"
      }
    },
    {
      "cell_type": "code",
      "source": [],
      "metadata": {
        "id": "kZ8ziZsLOXYW"
      },
      "execution_count": null,
      "outputs": []
    },
    {
      "cell_type": "markdown",
      "source": [
        "6) Flip the image upside down and display it in the notebook."
      ],
      "metadata": {
        "id": "YAjCLqeUOczG"
      }
    },
    {
      "cell_type": "code",
      "source": [],
      "metadata": {
        "id": "VuGo2yGROY33"
      },
      "execution_count": null,
      "outputs": []
    },
    {
      "cell_type": "markdown",
      "source": [
        "7) Copy the image and draw an empty RED rectangle around the human face on coppied image and display the image in the notebook."
      ],
      "metadata": {
        "id": "hyR5xhCnPU2A"
      }
    },
    {
      "cell_type": "code",
      "source": [],
      "metadata": {
        "id": "H5afFW1RPnrm"
      },
      "execution_count": null,
      "outputs": []
    },
    {
      "cell_type": "markdown",
      "source": [
        "8) Open the \"shocked_cat\" image and display it in the notebook as black and white\n"
      ],
      "metadata": {
        "id": "v7I0RrEok5Eb"
      }
    },
    {
      "cell_type": "code",
      "source": [],
      "metadata": {
        "id": "dATlQRL1lsra"
      },
      "execution_count": null,
      "outputs": []
    },
    {
      "cell_type": "markdown",
      "source": [
        "9)Apply a binary 'gray' threshold onto the image.\n"
      ],
      "metadata": {
        "id": "CfC-7kOvSPWz"
      }
    },
    {
      "cell_type": "code",
      "source": [],
      "metadata": {
        "id": "pUHAbDCySXpI"
      },
      "execution_count": null,
      "outputs": []
    },
    {
      "cell_type": "markdown",
      "source": [
        "10) Create a Horizontal Sobel Filter with a kernel size of 5 to the grayscale version of the giaraffes image and then display the resulting gradient filtered version of the image."
      ],
      "metadata": {
        "id": "GgQ_G9f5SXR2"
      }
    },
    {
      "cell_type": "code",
      "source": [],
      "metadata": {
        "id": "ZWe9QhDZSiTw"
      },
      "execution_count": null,
      "outputs": []
    }
  ]
}