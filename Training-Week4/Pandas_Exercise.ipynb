{
  "nbformat": 4,
  "nbformat_minor": 0,
  "metadata": {
    "colab": {
      "provenance": []
    },
    "kernelspec": {
      "name": "python3",
      "display_name": "Python 3"
    },
    "language_info": {
      "name": "python"
    }
  },
  "cells": [
    {
      "cell_type": "markdown",
      "source": [
        "Import necesarry libraries"
      ],
      "metadata": {
        "id": "8CL8drQBrE-2"
      }
    },
    {
      "cell_type": "code",
      "source": [],
      "metadata": {
        "id": "v8j-JT9BrbDs"
      },
      "execution_count": null,
      "outputs": []
    },
    {
      "cell_type": "markdown",
      "source": [
        "Import the dataset\n",
        "Assign it to a variable called \"chipo\""
      ],
      "metadata": {
        "id": "cW57BP4xrbxS"
      }
    },
    {
      "cell_type": "code",
      "source": [],
      "metadata": {
        "id": "qwJqmEIc0f56"
      },
      "execution_count": null,
      "outputs": []
    },
    {
      "cell_type": "markdown",
      "source": [
        "See the first 10 entries"
      ],
      "metadata": {
        "id": "TiNNsCgY0hrF"
      }
    },
    {
      "cell_type": "code",
      "source": [],
      "metadata": {
        "id": "ghrWkFMR3FZe"
      },
      "execution_count": null,
      "outputs": []
    },
    {
      "cell_type": "markdown",
      "source": [
        "See the last 10 entries"
      ],
      "metadata": {
        "id": "7ag0Ma1Y3F0Y"
      }
    },
    {
      "cell_type": "code",
      "source": [],
      "metadata": {
        "id": "E4ELy6c632AU"
      },
      "execution_count": null,
      "outputs": []
    },
    {
      "cell_type": "markdown",
      "source": [
        "What is the number of rows and collumns in the dataset? Two methods\n"
      ],
      "metadata": {
        "id": "NVEpTVhC32UP"
      }
    },
    {
      "cell_type": "code",
      "source": [],
      "metadata": {
        "id": "kRd5Ocbe5yJZ"
      },
      "execution_count": null,
      "outputs": []
    },
    {
      "cell_type": "code",
      "source": [],
      "metadata": {
        "id": "adUSGAei59QA"
      },
      "execution_count": null,
      "outputs": []
    },
    {
      "cell_type": "markdown",
      "source": [
        "Print the name of all the columns."
      ],
      "metadata": {
        "id": "VbTBMW545yo0"
      }
    },
    {
      "cell_type": "code",
      "source": [],
      "metadata": {
        "id": "ckxMcl5c8_y5"
      },
      "execution_count": null,
      "outputs": []
    },
    {
      "cell_type": "markdown",
      "source": [
        "How many orders were made in the period"
      ],
      "metadata": {
        "id": "StMjyjtiSCc8"
      }
    },
    {
      "cell_type": "code",
      "source": [],
      "metadata": {
        "id": "-Dh7foYxSDVW"
      },
      "execution_count": null,
      "outputs": []
    },
    {
      "cell_type": "markdown",
      "source": [
        "How many items were orderd in total"
      ],
      "metadata": {
        "id": "EPGkHUvpRiL_"
      }
    },
    {
      "cell_type": "code",
      "source": [],
      "metadata": {
        "id": "0wblz-GuRjAi"
      },
      "execution_count": null,
      "outputs": []
    },
    {
      "cell_type": "markdown",
      "source": [
        "List the 5 most-ordered items"
      ],
      "metadata": {
        "id": "JpKsWgIC9AHs"
      }
    },
    {
      "cell_type": "code",
      "source": [],
      "metadata": {
        "id": "3E_yInn19Yyl"
      },
      "execution_count": null,
      "outputs": []
    },
    {
      "cell_type": "markdown",
      "source": [
        "List the 3 most ordered item in the choice_description column"
      ],
      "metadata": {
        "id": "NSguUXIG9ZVU"
      }
    },
    {
      "cell_type": "code",
      "source": [],
      "metadata": {
        "id": "-xjtCsyxRXHt"
      },
      "execution_count": null,
      "outputs": []
    },
    {
      "cell_type": "markdown",
      "source": [
        "List the top 5 items by the revenue"
      ],
      "metadata": {
        "id": "T12us1ywUAnn"
      }
    },
    {
      "cell_type": "code",
      "source": [],
      "metadata": {
        "id": "ODbHaWq9T-Li"
      },
      "execution_count": null,
      "outputs": []
    },
    {
      "cell_type": "markdown",
      "source": [
        "How much was the revenue for the period in the dataset"
      ],
      "metadata": {
        "id": "fxJxmRRgRXjV"
      }
    },
    {
      "cell_type": "code",
      "source": [],
      "metadata": {
        "id": "aP6iuFrhR18Y"
      },
      "execution_count": null,
      "outputs": []
    },
    {
      "cell_type": "markdown",
      "source": [
        "What is the average revenue amount per order"
      ],
      "metadata": {
        "id": "Lcmhkp0yR2K2"
      }
    },
    {
      "cell_type": "code",
      "source": [],
      "metadata": {
        "id": "aXFlFdo7SSfY"
      },
      "execution_count": null,
      "outputs": []
    },
    {
      "cell_type": "markdown",
      "source": [
        "How many different items are sold"
      ],
      "metadata": {
        "id": "lZjR2H4ZSSy5"
      }
    },
    {
      "cell_type": "code",
      "source": [],
      "metadata": {
        "id": "JxE8e_I7SWRY"
      },
      "execution_count": null,
      "outputs": []
    },
    {
      "cell_type": "markdown",
      "source": [
        "Select the first 3 columns"
      ],
      "metadata": {
        "id": "0xg6R-PQSshu"
      }
    },
    {
      "cell_type": "code",
      "source": [],
      "metadata": {
        "id": "hahCPz7_S5D-"
      },
      "execution_count": null,
      "outputs": []
    },
    {
      "cell_type": "markdown",
      "source": [
        "Select all columns except the last 3."
      ],
      "metadata": {
        "id": "oh6Zb5bPS5eA"
      }
    },
    {
      "cell_type": "code",
      "source": [],
      "metadata": {
        "id": "NdV02-csS_Xz"
      },
      "execution_count": null,
      "outputs": []
    },
    {
      "cell_type": "markdown",
      "source": [
        "Select the orders which item_price is bigger than 10 dolalrs and lesser then 15 dollars\n",
        "\n"
      ],
      "metadata": {
        "id": "HiXQ9pFdTBge"
      }
    },
    {
      "cell_type": "code",
      "source": [],
      "metadata": {
        "id": "HzBTEQ1LTXNW"
      },
      "execution_count": null,
      "outputs": []
    }
  ]
}