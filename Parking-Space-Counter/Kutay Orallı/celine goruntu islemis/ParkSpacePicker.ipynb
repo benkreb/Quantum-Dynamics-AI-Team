{
 "cells": [
  {
   "cell_type": "code",
   "execution_count": null,
   "id": "c3e50627-6cfd-49f9-8310-d9aa8c25fc4d",
   "metadata": {
    "tags": []
   },
   "outputs": [],
   "source": [
    "import cv2\n",
    "import numpy as np\n",
    "import pickle\n",
    "\n",
    "width, height = 107, 48\n",
    "\n",
    "try:\n",
    "    with open(\"car_park_pos\", \"rb\") as f:\n",
    "        pos_list = pickle.load(f)\n",
    "except:\n",
    "    pos_list = []\n",
    "\n",
    "def mouseClick(event, x, y, flags, parameter):\n",
    "    global pos_list\n",
    "    if event == cv2.EVENT_LBUTTONDOWN:\n",
    "        pos_list.append((x, y))\n",
    "    if event == cv2.EVENT_RBUTTONDOWN:\n",
    "        for i, pos in enumerate(pos_list):\n",
    "            x1, y1 = pos\n",
    "            if x1 < x < x1 + width and y1 < y < y1 + height:\n",
    "                pos_list.pop(i)\n",
    "    with open(\"car_park_pos\", \"wb\") as f:\n",
    "        pickle.dump(pos_list, f)\n",
    "\n",
    "image_path = \"carParkImg.png\"\n",
    "img = cv2.imread(image_path)\n",
    "\n",
    "while True:\n",
    "    # Drawing rectangles according to the positions in the list\n",
    "    for pos in pos_list:\n",
    "        cv2.rectangle(img, pos, (pos[0] + width, pos[1] + height), (0, 0, 255), 2)\n",
    "\n",
    "    cv2.imshow(\"Parking Lot Monitor\", img)\n",
    "    cv2.setMouseCallback(\"Parking Lot Monitor\", mouseClick)\n",
    "\n",
    "    if cv2.waitKey(1) & 0xFF == ord('q'):\n",
    "        break\n",
    "\n",
    "cv2.destroyAllWindows()"
   ]
  },
  {
   "cell_type": "code",
   "execution_count": null,
   "id": "dd6f3f56-9e88-45fd-945a-6da6b3ce1879",
   "metadata": {},
   "outputs": [],
   "source": []
  }
 ],
 "metadata": {
  "kernelspec": {
   "display_name": "Python 3 (ipykernel)",
   "language": "python",
   "name": "python3"
  },
  "language_info": {
   "codemirror_mode": {
    "name": "ipython",
    "version": 3
   },
   "file_extension": ".py",
   "mimetype": "text/x-python",
   "name": "python",
   "nbconvert_exporter": "python",
   "pygments_lexer": "ipython3",
   "version": "3.11.5"
  }
 },
 "nbformat": 4,
 "nbformat_minor": 5
}
